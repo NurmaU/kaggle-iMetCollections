{
 "cells": [
  {
   "cell_type": "code",
   "execution_count": 1,
   "metadata": {},
   "outputs": [],
   "source": [
    "import pandas as pd\n",
    "from utils import binarize_prediction\n",
    "from inference import get_classes\n",
    "import numpy as np\n",
    "from sklearn.metrics import fbeta_score"
   ]
  },
  {
   "cell_type": "code",
   "execution_count": 8,
   "metadata": {},
   "outputs": [],
   "source": [
    "#df0 = pd.read_csv('./savings/probs_sresnet50.0.csv').set_index('id')\n",
    "df1 = pd.read_csv('./savings/probs_seresnext.1.0_1.csv').set_index('id')\n",
    "df2 = pd.read_csv('./savings/probs_seresnext.2.0_1.csv').set_index('id')\n",
    "df3 = pd.read_csv('./savings/probs_seresnext.3.0_1.csv').set_index('id')\n",
    "df4 = pd.read_csv('./savings/probs_seresnext.4.0_1.csv').set_index('id')\n",
    "\n",
    "df0_resnet = pd.read_csv('./savings/probs_resnet50.0.csv').set_index('id')\n",
    "df1_resnet = pd.read_csv('./savings/probs_resnet50.1.csv').set_index('id')\n",
    "df2_resnet = pd.read_csv('./savings/probs_resnet50.2.csv').set_index('id')\n",
    "df3_resnet = pd.read_csv('./savings/probs_resnet50.3.csv').set_index('id')\n",
    "df4_resnet = pd.read_csv('./savings/probs_resnet50.4.csv').set_index('id')"
   ]
  },
  {
   "cell_type": "code",
   "execution_count": 18,
   "metadata": {},
   "outputs": [],
   "source": [
    "def submission_file(each_class_threshold=False):\n",
    "    df_ens = df1 + df2 + df3 + df4 + df0_resnet + df1_resnet + df2_resnet + df3_resnet + df4_resnet\n",
    "    df_ens[:] = df_ens.values/9\n",
    "    \n",
    "    if each_class_threshold:\n",
    "        ths = get_thresholds()\n",
    "        out = binarize_prediction(df_ens.values, ths)\n",
    "    else:\n",
    "        out = binarize_prediction(df_ens.values, 0.1)\n",
    "    df_ens[:] = out\n",
    "\n",
    "    df_ens = df_ens.apply(get_classes, axis=1)\n",
    "    df_ens.name = 'attribute_ids'\n",
    "\n",
    "    df_ens.to_csv('./submissions/cv9_seresnext_resnet.csv', header=True)\n",
    "    return df_ens"
   ]
  },
  {
   "cell_type": "code",
   "execution_count": 19,
   "metadata": {},
   "outputs": [],
   "source": [
    "df = submission_file()"
   ]
  },
  {
   "cell_type": "code",
   "execution_count": 5,
   "metadata": {},
   "outputs": [],
   "source": [
    "def binarize_prediction(probabilities, threshold: float, argsorted=None,\n",
    "                        min_labels=1, max_labels=10):\n",
    "    N_CLASSES = 1103\n",
    "    assert probabilities.shape[1] == N_CLASSES\n",
    "    if argsorted is None:\n",
    "        argsorted = probabilities.argsort(axis=1)\n",
    "\n",
    "    def _make_mask(argsorted, top_n: int):\n",
    "        mask = np.zeros_like(argsorted, dtype=np.uint8)\n",
    "        col_indices = argsorted[:, -top_n:].reshape(-1)\n",
    "        row_indices = [i // top_n for i in range(len(col_indices))]\n",
    "        mask[row_indices, col_indices] = 1\n",
    "        return mask\n",
    "\n",
    "    max_mask = _make_mask(argsorted, max_labels)\n",
    "    min_mask = _make_mask(argsorted, min_labels)\n",
    "    prob_mask = probabilities > threshold\n",
    "    return (max_mask & prob_mask) | min_mask\n",
    "\n",
    "def get_score(targets, y_pred):\n",
    "    return fbeta_score(targets, y_pred, beta = 2)"
   ]
  },
  {
   "cell_type": "code",
   "execution_count": 7,
   "metadata": {
    "code_folding": []
   },
   "outputs": [],
   "source": [
    "def get_thresholds():\n",
    "    predictions = np.load('./savings/predictions.npy')\n",
    "    targets = np.load('./savings/targets.npy')\n",
    "    ths = []\n",
    "    N_CLASSES = 1103\n",
    "    for i in range(N_CLASSES):\n",
    "        current_scores = []\n",
    "        for threshold in np.linspace(0.1, 1, 10):\n",
    "            tgt = np.expand_dims(targets[:, i], 1)\n",
    "            prd = np.expand_dims(predictions[:, i], 1)\n",
    "            current_scores.append((get_score(tgt, (prd > threshold).astype('int')),threshold))\n",
    "\n",
    "        ths.append(max(current_scores, key = lambda x: x[0])[1])\n",
    "    ths = np.array(ths)\n",
    "    ths = np.expand_dims(ths, 0)\n",
    "    return ths"
   ]
  },
  {
   "cell_type": "code",
   "execution_count": null,
   "metadata": {},
   "outputs": [],
   "source": []
  }
 ],
 "metadata": {
  "kernelspec": {
   "display_name": "Python 3",
   "language": "python",
   "name": "python3"
  },
  "language_info": {
   "codemirror_mode": {
    "name": "ipython",
    "version": 3
   },
   "file_extension": ".py",
   "mimetype": "text/x-python",
   "name": "python",
   "nbconvert_exporter": "python",
   "pygments_lexer": "ipython3",
   "version": "3.6.8"
  }
 },
 "nbformat": 4,
 "nbformat_minor": 2
}
